{
  "nbformat": 4,
  "nbformat_minor": 0,
  "metadata": {
    "colab": {
      "name": "PCA_DL1.ipynb",
      "provenance": [],
      "collapsed_sections": [],
      "include_colab_link": true
    },
    "kernelspec": {
      "name": "python3",
      "display_name": "Python 3"
    }
  },
  "cells": [
    {
      "cell_type": "markdown",
      "metadata": {
        "id": "view-in-github",
        "colab_type": "text"
      },
      "source": [
        "<a href=\"https://colab.research.google.com/github/nazmul-kaonine/Data-Science-Papers/blob/master/Handwritten%20Digit%20Classification%20using%20Multiple%20Descriptors%20%26%20ANN/PCA.ipynb\" target=\"_parent\"><img src=\"https://colab.research.google.com/assets/colab-badge.svg\" alt=\"Open In Colab\"/></a>"
      ]
    },
    {
      "cell_type": "markdown",
      "metadata": {
        "id": "soPWtc-mgZOg",
        "colab_type": "text"
      },
      "source": [
        "#Submitted by:\n",
        "###Nazmul Kaonine\n",
        "####PostGrad- UTS"
      ]
    },
    {
      "cell_type": "markdown",
      "metadata": {
        "id": "e4SuEbCYgSNS",
        "colab_type": "text"
      },
      "source": [
        "# Initializing ALL libraries and loader functions"
      ]
    },
    {
      "cell_type": "code",
      "metadata": {
        "id": "SGsqwhylaNZt",
        "colab_type": "code",
        "colab": {
          "base_uri": "https://localhost:8080/",
          "height": 69
        },
        "outputId": "79c4a963-4f42-4a72-98f8-ef31b80f8efc"
      },
      "source": [
        "import numpy as np\n",
        "import matplotlib.pyplot as plt\n",
        "from skimage import feature \n",
        "from sklearn import svm \n",
        "%matplotlib inline\n",
        "import seaborn as sns \n",
        "from sklearn.model_selection import train_test_split\n",
        "from sklearn.neighbors import KNeighborsClassifier\n",
        "from sklearn import metrics\n",
        "import math, numpy as np\n",
        "import sklearn.datasets\n",
        "import matplotlib.pyplot as plt\n",
        "import os\n",
        "import h5py\n",
        "import glob\n",
        "import cv2\n",
        "from keras.preprocessing import image\n",
        "from sklearn import decomposition\n"
      ],
      "execution_count": null,
      "outputs": [
        {
          "output_type": "stream",
          "text": [
            "/usr/local/lib/python3.6/dist-packages/statsmodels/tools/_testing.py:19: FutureWarning: pandas.util.testing is deprecated. Use the functions in the public API at pandas.testing instead.\n",
            "  import pandas.util.testing as tm\n",
            "Using TensorFlow backend.\n"
          ],
          "name": "stderr"
        }
      ]
    },
    {
      "cell_type": "code",
      "metadata": {
        "id": "2LaJ1y4Gp1pA",
        "colab_type": "code",
        "colab": {
          "base_uri": "https://localhost:8080/",
          "height": 34
        },
        "outputId": "abf0b452-413a-489c-9c93-ee4cbb206ea8"
      },
      "source": [
        "    os.system('wget -N http://yann.lecun.com/exdb/mnist/train-images-idx3-ubyte.gz')\n",
        "    os.system('wget -N http://yann.lecun.com/exdb/mnist/train-labels-idx1-ubyte.gz')\n",
        "    os.system('wget -N http://yann.lecun.com/exdb/mnist/t10k-images-idx3-ubyte.gz')\n",
        "    os.system('wget -N http://yann.lecun.com/exdb/mnist/t10k-labels-idx1-ubyte.gz')"
      ],
      "execution_count": null,
      "outputs": [
        {
          "output_type": "execute_result",
          "data": {
            "text/plain": [
              "0"
            ]
          },
          "metadata": {
            "tags": []
          },
          "execution_count": 2
        }
      ]
    },
    {
      "cell_type": "code",
      "metadata": {
        "id": "-GvcFJe1aiRu",
        "colab_type": "code",
        "colab": {}
      },
      "source": [
        "def load_mnist(path, kind='train'):\n",
        "    import os\n",
        "    import gzip\n",
        "    import numpy as np\n",
        "\n",
        "    \"\"\"Load MNIST data from `path`\"\"\"\n",
        "    labels_path = os.path.join(path,\n",
        "                               '%s-labels-idx1-ubyte.gz'\n",
        "                               % kind)\n",
        "    images_path = os.path.join(path,\n",
        "                               '%s-images-idx3-ubyte.gz'\n",
        "                               % kind)\n",
        "\n",
        "    with gzip.open(labels_path, 'rb') as lbpath:\n",
        "        labels = np.frombuffer(lbpath.read(), dtype=np.uint8,\n",
        "                               offset=8)\n",
        "\n",
        "    with gzip.open(images_path, 'rb') as imgpath:\n",
        "        images = np.frombuffer(imgpath.read(), dtype=np.uint8,\n",
        "                               offset=16).reshape(len(labels), 784)\n",
        "                                \n",
        "                              \n",
        "\n",
        "\n",
        "                        \n",
        "        \n",
        "\n",
        "\n",
        "    return images, labels"
      ],
      "execution_count": null,
      "outputs": []
    },
    {
      "cell_type": "code",
      "metadata": {
        "id": "p84hojvLiTpn",
        "colab_type": "code",
        "colab": {
          "base_uri": "https://localhost:8080/",
          "height": 124
        },
        "outputId": "9f40cbb9-c190-4c38-a80c-bdc73a5014a3"
      },
      "source": [
        "from google.colab import drive\n",
        "drive.mount('/content/gdrive')\n"
      ],
      "execution_count": null,
      "outputs": [
        {
          "output_type": "stream",
          "text": [
            "Go to this URL in a browser: https://accounts.google.com/o/oauth2/auth?client_id=947318989803-6bn6qk8qdgf4n4g3pfee6491hc0brc4i.apps.googleusercontent.com&redirect_uri=urn%3aietf%3awg%3aoauth%3a2.0%3aoob&response_type=code&scope=email%20https%3a%2f%2fwww.googleapis.com%2fauth%2fdocs.test%20https%3a%2f%2fwww.googleapis.com%2fauth%2fdrive%20https%3a%2f%2fwww.googleapis.com%2fauth%2fdrive.photos.readonly%20https%3a%2f%2fwww.googleapis.com%2fauth%2fpeopleapi.readonly\n",
            "\n",
            "Enter your authorization code:\n",
            "··········\n",
            "Mounted at /content/gdrive\n"
          ],
          "name": "stdout"
        }
      ]
    },
    {
      "cell_type": "code",
      "metadata": {
        "id": "92y6kmkpkRDp",
        "colab_type": "code",
        "colab": {}
      },
      "source": [
        "\n",
        "X_train, y_train = load_mnist('/content/gdrive/My Drive/DLA2/', kind='train')\n",
        "X_test, y_test = load_mnist('/content/gdrive/My Drive/DLA2/', kind='t10k')\n",
        "\n"
      ],
      "execution_count": null,
      "outputs": []
    },
    {
      "cell_type": "markdown",
      "metadata": {
        "id": "r3jMTg9NhcTc",
        "colab_type": "text"
      },
      "source": [
        "#Some Visualizations"
      ]
    },
    {
      "cell_type": "code",
      "metadata": {
        "id": "GD8Sb1j7NM-I",
        "colab_type": "code",
        "colab": {}
      },
      "source": [
        "X_train=X_train.reshape(-1,28,28)\n",
        "X_test=X_test.reshape(-1,28,28)"
      ],
      "execution_count": null,
      "outputs": []
    },
    {
      "cell_type": "code",
      "metadata": {
        "id": "T_2l5swkAlfJ",
        "colab_type": "code",
        "colab": {
          "base_uri": "https://localhost:8080/",
          "height": 1000
        },
        "outputId": "d2f76bcf-f782-414e-ed17-4e4e50abfdf2"
      },
      "source": [
        "import matplotlib.pyplot as plt\n",
        "plt.imshow(X_train[4])\n",
        "print(X_train[4])\n",
        "\n"
      ],
      "execution_count": null,
      "outputs": [
        {
          "output_type": "stream",
          "text": [
            "[[  0   0   0   0   0   0   0   0   0   0   0   0   0   0   0   0   0   0\n",
            "    0   0   0   0   0   0   0   0   0   0]\n",
            " [  0   0   0   0   0   0   0   0   0   0   0   0   0   0   0   0   0   0\n",
            "    0   0   0   0   0   0   0   0   0   0]\n",
            " [  0   0   0   0   0   0   0   0   0   0   0   0   0   0   0   0   0   0\n",
            "    0   0   0   0   0   0   0   0   0   0]\n",
            " [  0   0   0   0   0   0   0   0   0   0   0  75 177 204 187 141  78  38\n",
            "    0   0   0   0   0   0   0   0   0   0]\n",
            " [  0   0   0   0   0   0   0   0   0   0  57 243 253 253 254 253 253 249\n",
            "  174   7   0   0   0   0   0   0   0   0]\n",
            " [  0   0   0   0   0   0   0   0   0   1 226 253 252 200 169 150 191 236\n",
            "  249  80   0   0   0   0   0   0   0   0]\n",
            " [  0   0   0   0   0   0   0   0   0  73 253 244 101   0   0   0   0   0\n",
            "  186 206   0   0   0   0   0   0   0   0]\n",
            " [  0   0   0   0   0   0   0   0   0 149 253 156   0   0   0   0   0   0\n",
            "  200 219   0   0   0   0   0   0   0   0]\n",
            " [  0   0   0   0   0   0   0   0   0 139 253  21   0   0   0   0   0  10\n",
            "  254 156   0   0   0   0   0   0   0   0]\n",
            " [  0   0   0   0   0   0   0   0   0 194 240  12   0   0   0   0   0 109\n",
            "  254 170   0   0   0   0   0   0   0   0]\n",
            " [  0   0   0   0   0   0   0   0  10 230 226   8   0   0   0   0   0 171\n",
            "  254 133   0   0   0   0   0   0   0   0]\n",
            " [  0   0   0   0   0   0   0   0  14 244 203   0   0   0   0   0  45 240\n",
            "  255  35   0   0   0   0   0   0   0   0]\n",
            " [  0   0   0   0   0   0   0   0   0 158 250  16   0   0   0   0 130 253\n",
            "  224  10   0   0   0   0   0   0   0   0]\n",
            " [  0   0   0   0   0   0   0   0   0  36 150  11   0   0   0  57 240 253\n",
            "   55   0   0   0   0   0   0   0   0   0]\n",
            " [  0   0   0   0   0   0   0   0   0  55 127   0   0   0   0 205 253 162\n",
            "    0   0   0   0   0  19   0   0   0   0]\n",
            " [  0   0   0   0   0   0   0   0  45 222 254 190   7   0  88 245 232  45\n",
            "    0   0   0   0  70 129   0   0   0   0]\n",
            " [  0   0   0   0   0   0   0   0 148 253 246 251 176 156 231 253 150   0\n",
            "    0   0   0  82 245 233  18   0   0   0]\n",
            " [  0   0   0   0   0   0   0   0 175 253 104 210 253 253 254 196   5   0\n",
            "    0   3 157 247 254 192   0   0   0   0]\n",
            " [  0   0   0   0   0   0   0  10 229 253  50 156 253 253 159  17   0   0\n",
            "   37 160 253 253 159  17   0   0   0   0]\n",
            " [  0   0   0   0   0   0   0  53 254 254 218 254 254 254 155  65  60  88\n",
            "  187 249 254 140  19   0   0   0   0   0]\n",
            " [  0   0   0   0   0   0   0  34 253 253 253 249 107 224 254 253 253 253\n",
            "  254 249 133   4   0   0   0   0   0   0]\n",
            " [  0   0   0   0   0   0   0  23 238 253 250  97   0  55 222 253 253 244\n",
            "  173  52   0   0   0   0   0   0   0   0]\n",
            " [  0   0   0   0   0   0   0   0 117 235  95   0   0   0  11  60 119  37\n",
            "    0   0   0   0   0   0   0   0   0   0]\n",
            " [  0   0   0   0   0   0   0   0   0   0   0   0   0   0   0   0   0   0\n",
            "    0   0   0   0   0   0   0   0   0   0]\n",
            " [  0   0   0   0   0   0   0   0   0   0   0   0   0   0   0   0   0   0\n",
            "    0   0   0   0   0   0   0   0   0   0]\n",
            " [  0   0   0   0   0   0   0   0   0   0   0   0   0   0   0   0   0   0\n",
            "    0   0   0   0   0   0   0   0   0   0]\n",
            " [  0   0   0   0   0   0   0   0   0   0   0   0   0   0   0   0   0   0\n",
            "    0   0   0   0   0   0   0   0   0   0]\n",
            " [  0   0   0   0   0   0   0   0   0   0   0   0   0   0   0   0   0   0\n",
            "    0   0   0   0   0   0   0   0   0   0]]\n"
          ],
          "name": "stdout"
        },
        {
          "output_type": "display_data",
          "data": {
            "image/png": "[encoded data removed]",
            "text/plain": [
              "<Figure size 432x288 with 1 Axes>"
            ]
          },
          "metadata": {
            "tags": [],
            "needs_background": "light"
          }
        }
      ]
    },
    {
      "cell_type": "code",
      "metadata": {
        "id": "K_G9JOHnAob5",
        "colab_type": "code",
        "colab": {
          "base_uri": "https://localhost:8080/",
          "height": 266
        },
        "outputId": "beaccc65-2296-4af6-d567-f8b1d696e1de"
      },
      "source": [
        "sns.countplot(y_train)\n",
        "plt.show()\n",
        "#shows digit label counts\n"
      ],
      "execution_count": null,
      "outputs": [
        {
          "output_type": "display_data",
          "data": {
            "image/png": "[encoded data removed]",
            "text/plain": [
              "<Figure size 432x288 with 1 Axes>"
            ]
          },
          "metadata": {
            "tags": [],
            "needs_background": "light"
          }
        }
      ]
    },
    {
      "cell_type": "code",
      "metadata": {
        "id": "BjVDE7KEXSEz",
        "colab_type": "code",
        "colab": {
          "base_uri": "https://localhost:8080/",
          "height": 550
        },
        "outputId": "aee05451-7898-40de-ad41-05d198425261"
      },
      "source": [
        "fig = plt.figure()\n",
        "for i in range(9):\n",
        "  plt.subplot(3,3,i+1)\n",
        "  plt.tight_layout()\n",
        "  plt.imshow(X_train[i], cmap='gray', interpolation='none')\n",
        "  plt.title(\"Digit: {}\".format(y_train[i]))\n",
        "  plt.xticks([])\n",
        "  plt.yticks([])\n",
        "fig"
      ],
      "execution_count": null,
      "outputs": [
        {
          "output_type": "execute_result",
          "data": {
            "image/png": "[encoded data removed]",
            "text/plain": [
              "<Figure size 432x288 with 9 Axes>"
            ]
          },
          "metadata": {
            "tags": []
          },
          "execution_count": 27
        },
        {
          "output_type": "display_data",
          "data": {
            "image/png": "[encoded data removed]",
            "text/plain": [
              "<Figure size 432x288 with 9 Axes>"
            ]
          },
          "metadata": {
            "tags": []
          }
        }
      ]
    },
    {
      "cell_type": "code",
      "metadata": {
        "id": "oiObXk8Hp4Uj",
        "colab_type": "code",
        "colab": {}
      },
      "source": [
        "def display_image(position):\n",
        "    image = X_train[position].squeeze()\n",
        "    plt.title('Example %d. Label: %d' % (position, y_train[position]))\n",
        "    plt.imshow(image, cmap=plt.cm.gray_r)"
      ],
      "execution_count": null,
      "outputs": []
    },
    {
      "cell_type": "code",
      "metadata": {
        "id": "94jwYzICttin",
        "colab_type": "code",
        "colab": {}
      },
      "source": [
        "display_image(0)\n",
        "plt.show()\n",
        "display_image(59999)\n",
        "#to view specific images"
      ],
      "execution_count": null,
      "outputs": []
    },
    {
      "cell_type": "markdown",
      "metadata": {
        "id": "reUG8HvuLF_4",
        "colab_type": "text"
      },
      "source": [
        "#SVM PCA"
      ]
    },
    {
      "cell_type": "code",
      "metadata": {
        "id": "pAjbhCFZNPUu",
        "colab_type": "code",
        "colab": {}
      },
      "source": [
        "X_train=X_train.reshape(-1,784)\n",
        "X_test=X_test.reshape(-1,784)"
      ],
      "execution_count": null,
      "outputs": []
    },
    {
      "cell_type": "code",
      "metadata": {
        "colab_type": "code",
        "id": "-n5Rae--Ir5o",
        "colab": {}
      },
      "source": [
        "X_train, X_test, y_train, y_test = train_test_split(\n",
        "...     X_train, y_train, test_size=0.0001, random_state=42)"
      ],
      "execution_count": null,
      "outputs": []
    },
    {
      "cell_type": "code",
      "metadata": {
        "id": "l-zt2KnfEYg6",
        "colab_type": "code",
        "colab": {}
      },
      "source": [
        "trainImage = X_train\n",
        "trainLabel = y_train\n",
        "testImage = X_test\n",
        "testLabel = y_test\n",
        "\n",
        "pca = decomposition.PCA(n_components=300, whiten=True).fit(trainImage)\n",
        "trainImage_PCA = pca.transform(trainImage)\n",
        "testImage_PCA = pca.transform(testImage)\n",
        "\n",
        "\n",
        "\n"
      ],
      "execution_count": null,
      "outputs": []
    },
    {
      "cell_type": "code",
      "metadata": {
        "id": "wGx44g_DKS67",
        "colab_type": "code",
        "colab": {}
      },
      "source": [
        "clf=svm.SVC(C=100,kernel='poly',gamma=0.01, degree=4)\n",
        "clf.fit(trainImage_PCA, trainLabel)\n",
        "result = clf.predict(testImage_PCA)"
      ],
      "execution_count": null,
      "outputs": []
    },
    {
      "cell_type": "code",
      "metadata": {
        "id": "T9D0z_4hFxCE",
        "colab_type": "code",
        "colab": {}
      },
      "source": [
        "  print(\"Test set Accuracy: {:.2f}\".format(clf.score(testImage_PCA,testLabel)))"
      ],
      "execution_count": null,
      "outputs": []
    },
    {
      "cell_type": "code",
      "metadata": {
        "id": "cA_jndStGXn1",
        "colab_type": "code",
        "colab": {}
      },
      "source": [
        "print(\"Test set predictions: {}\".format(clf.predict(testImage_PCA)))\n"
      ],
      "execution_count": null,
      "outputs": []
    },
    {
      "cell_type": "code",
      "metadata": {
        "id": "UZ15zVCGGkEK",
        "colab_type": "code",
        "colab": {}
      },
      "source": [
        "print(metrics.confusion_matrix(testLabel, result))"
      ],
      "execution_count": null,
      "outputs": []
    },
    {
      "cell_type": "code",
      "metadata": {
        "id": "fZKYkqBGNiQ6",
        "colab_type": "code",
        "colab": {}
      },
      "source": [
        "accuracy=metrics.accuracy_score(testLabel, result)\n",
        "\n",
        "# plot the confusion matrix\n",
        "cm  = metrics.confusion_matrix(testLabel, result)\n",
        "print(cm)\n",
        "\n",
        "# Plot confusion matrix using seaborn library\n",
        "plt.figure(figsize=(9,9))\n",
        "sns.heatmap(cm, annot=True, fmt=\".3f\", linewidths=.5, square = True, cmap = 'Blues_r');\n",
        "plt.ylabel('Actual label');\n",
        "plt.xlabel('Predicted label');\n",
        "all_sample_title = 'Accuracy Score: {0}'.format(accuracy)\n",
        "plt.title(all_sample_title, size = 15);"
      ],
      "execution_count": null,
      "outputs": []
    },
    {
      "cell_type": "markdown",
      "metadata": {
        "id": "8s-FmkaCh5gZ",
        "colab_type": "text"
      },
      "source": [
        "# K NEAREST NEIGHBOR PCA"
      ]
    },
    {
      "cell_type": "code",
      "metadata": {
        "id": "-nkY1-pFkdAX",
        "colab_type": "code",
        "colab": {}
      },
      "source": [
        "X_train, X_test, y_train, y_test = train_test_split(\n",
        "...     X_train, y_train, test_size=0.01, random_state=42)\n"
      ],
      "execution_count": null,
      "outputs": []
    },
    {
      "cell_type": "code",
      "metadata": {
        "id": "WoVtPOaGJch9",
        "colab_type": "code",
        "colab": {}
      },
      "source": [
        "trainImage = X_train\n",
        "trainLabel = y_train\n",
        "testImage = X_test\n",
        "testLabel = y_test\n",
        "\n",
        "pca = decomposition.PCA(n_components=300, whiten=True).fit(trainImage)\n",
        "trainImage_PCA = pca.transform(trainImage)\n",
        "testImage_PCA = pca.transform(testImage)"
      ],
      "execution_count": null,
      "outputs": []
    },
    {
      "cell_type": "code",
      "metadata": {
        "id": "2a3TnoOglf_q",
        "colab_type": "code",
        "colab": {}
      },
      "source": [
        "clf=KNeighborsClassifier(n_neighbors=5)\n",
        "clf.fit(trainImage_PCA, trainLabel)\n",
        "result = clf.predict(testImage_PCA)\n",
        "\n"
      ],
      "execution_count": null,
      "outputs": []
    },
    {
      "cell_type": "code",
      "metadata": {
        "id": "dRkqAUneJwsZ",
        "colab_type": "code",
        "colab": {
          "base_uri": "https://localhost:8080/",
          "height": 34
        },
        "outputId": "0449b38d-5996-4b25-f4d6-39eb394ffdba"
      },
      "source": [
        " print(\"Test set Accuracy: {:.2f}\".format(clf.score(testImage_PCA,testLabel)))"
      ],
      "execution_count": null,
      "outputs": [
        {
          "output_type": "stream",
          "text": [
            "Test set Accuracy: 0.83\n"
          ],
          "name": "stdout"
        }
      ]
    },
    {
      "cell_type": "code",
      "metadata": {
        "id": "FymjKxLoJyPO",
        "colab_type": "code",
        "colab": {}
      },
      "source": [
        "print(\"Test set predictions: {}\".format(clf.predict(testImage_PCA)))\n"
      ],
      "execution_count": null,
      "outputs": []
    },
    {
      "cell_type": "code",
      "metadata": {
        "id": "nRLU7fzmJ1Kd",
        "colab_type": "code",
        "colab": {
          "base_uri": "https://localhost:8080/",
          "height": 104
        },
        "outputId": "0e644590-cc50-4fb4-ed9c-c34b2bb5f81a"
      },
      "source": [
        "print(metrics.confusion_matrix(testLabel, result))"
      ],
      "execution_count": null,
      "outputs": [
        {
          "output_type": "stream",
          "text": [
            "[[0 0 0 0 0]\n",
            " [0 2 0 0 0]\n",
            " [0 0 1 0 0]\n",
            " [1 0 0 0 0]\n",
            " [0 0 0 0 2]]\n"
          ],
          "name": "stdout"
        }
      ]
    },
    {
      "cell_type": "code",
      "metadata": {
        "id": "1j26u36cL-rt",
        "colab_type": "code",
        "colab": {
          "base_uri": "https://localhost:8080/",
          "height": 617
        },
        "outputId": "03eef3dc-ddcf-4084-fca2-aeaa59467e8d"
      },
      "source": [
        "accuracy=metrics.accuracy_score(testLabel, result)\n",
        "\n",
        "# plot the confusion matrix\n",
        "cm  = metrics.confusion_matrix(testLabel, result)\n",
        "print(cm)\n",
        "\n",
        "# Plot confusion matrix using seaborn library\n",
        "plt.figure(figsize=(9,9))\n",
        "sns.heatmap(cm, annot=True, fmt=\".3f\", linewidths=.5, square = True, cmap = 'Blues_r');\n",
        "plt.ylabel('Actual label');\n",
        "plt.xlabel('Predicted label');\n",
        "all_sample_title = 'Accuracy Score: {0}'.format(accuracy)\n",
        "plt.title(all_sample_title, size = 15);"
      ],
      "execution_count": null,
      "outputs": [
        {
          "output_type": "stream",
          "text": [
            "[[0 0 0 0 0]\n",
            " [0 2 0 0 0]\n",
            " [0 0 1 0 0]\n",
            " [1 0 0 0 0]\n",
            " [0 0 0 0 2]]\n"
          ],
          "name": "stdout"
        },
        {
          "output_type": "display_data",
          "data": {
            "image/png": "[encoded data removed]",
            "text/plain": [
              "<Figure size 648x648 with 2 Axes>"
            ]
          },
          "metadata": {
            "tags": [],
            "needs_background": "light"
          }
        }
      ]
    },
    {
      "cell_type": "markdown",
      "metadata": {
        "id": "PPK7g1PwjZXs",
        "colab_type": "text"
      },
      "source": [
        "#ANN PCA"
      ]
    },
    {
      "cell_type": "code",
      "metadata": {
        "id": "v1t2QbZIjX0H",
        "colab_type": "code",
        "colab": {
          "base_uri": "https://localhost:8080/",
          "height": 86
        },
        "outputId": "d42be6f5-ba7a-47b2-8e20-6ddfd0147fc1"
      },
      "source": [
        "import os\n",
        "import numpy as np\n",
        "import tensorflow as tf\n",
        "from tensorflow import keras\n",
        "from sklearn import decomposition\n",
        "\n",
        "print(tf.__version__)\n",
        "print(keras.__version__)\n",
        "%load_ext tensorboard\n",
        "\n",
        "Mnist=tf.keras.datasets.mnist\n",
        "(train_images, train_labels), (test_images, test_labels) = Mnist.load_data()\n",
        "\n",
        "\n",
        "train_images=train_images.reshape(-1,784)\n",
        "test_images=test_images.reshape(-1,784)"
      ],
      "execution_count": null,
      "outputs": [
        {
          "output_type": "stream",
          "text": [
            "2.2.0-rc3\n",
            "2.3.0-tf\n",
            "The tensorboard extension is already loaded. To reload it, use:\n",
            "  %reload_ext tensorboard\n"
          ],
          "name": "stdout"
        }
      ]
    },
    {
      "cell_type": "code",
      "metadata": {
        "id": "wv_Fctgdk-Ec",
        "colab_type": "code",
        "colab": {
          "base_uri": "https://localhost:8080/",
          "height": 52
        },
        "outputId": "7b73635e-d91c-4f7e-9e3a-44e2cb729b0f"
      },
      "source": [
        "print(train_images.dtype)\n",
        "print(train_images.shape)"
      ],
      "execution_count": null,
      "outputs": [
        {
          "output_type": "stream",
          "text": [
            "uint8\n",
            "(60000, 784)\n"
          ],
          "name": "stdout"
        }
      ]
    },
    {
      "cell_type": "code",
      "metadata": {
        "id": "0H6DDNxalXUl",
        "colab_type": "code",
        "colab": {
          "base_uri": "https://localhost:8080/",
          "height": 69
        },
        "outputId": "e565e8d4-5aee-43d3-975e-dbce03605132"
      },
      "source": [
        "#Normalizing\n",
        "valid_images= train_images[:5000] / 255.0\n",
        "valid_labels = train_labels[:5000]\n",
        "\n",
        "\n",
        "train_images  = train_images[5000:] / 255.0\n",
        "train_labels=train_labels[5000:]\n",
        "\n",
        "test_images = test_images / 255.0\n",
        "\n",
        "print(np.shape(train_images))\n",
        "print(np.shape(valid_images))\n",
        "print(np.shape(test_images))"
      ],
      "execution_count": null,
      "outputs": [
        {
          "output_type": "stream",
          "text": [
            "(55000, 784)\n",
            "(5000, 784)\n",
            "(10000, 784)\n"
          ],
          "name": "stdout"
        }
      ]
    },
    {
      "cell_type": "code",
      "metadata": {
        "id": "MW7XIwmPNtld",
        "colab_type": "code",
        "colab": {}
      },
      "source": [
        "pca = decomposition.PCA(n_components=300, whiten=True).fit(train_images)\n",
        "trainImage_PCA = pca.transform(train_images)\n",
        "testImage_PCA = pca.transform(test_images)\n",
        "validImage_PCA= pca.transform(valid_images)\n",
        "\n",
        "train_images=trainImage_PCA\n",
        "test_images=testImage_PCA\n",
        "valid_images=validImage_PCA\n"
      ],
      "execution_count": null,
      "outputs": []
    },
    {
      "cell_type": "code",
      "metadata": {
        "id": "sF4QM2dfPNqd",
        "colab_type": "code",
        "colab": {
          "base_uri": "https://localhost:8080/",
          "height": 52
        },
        "outputId": "cfaebbf3-0937-441e-9172-43291bcbb8d3"
      },
      "source": [
        "print(train_images.shape)\n",
        "print(test_images.shape)"
      ],
      "execution_count": null,
      "outputs": [
        {
          "output_type": "stream",
          "text": [
            "(55000, 300)\n",
            "(10000, 300)\n"
          ],
          "name": "stdout"
        }
      ]
    },
    {
      "cell_type": "code",
      "metadata": {
        "id": "zD8jvtiFlv1n",
        "colab_type": "code",
        "colab": {
          "base_uri": "https://localhost:8080/",
          "height": 1000
        },
        "outputId": "e4c0d7c0-2f34-42f4-fc0e-8010bee13799"
      },
      "source": [
        "#Sample 1\n",
        "model1 = tf.keras.models.Sequential([tf.keras.layers.Flatten(data_format=None), \n",
        "                                    tf.keras.layers.Dense(128, activation=tf.nn.relu), \n",
        "                                    tf.keras.layers.Dense(10, activation=tf.nn.softmax)])\n",
        "\n",
        "model1.compile(optimizer = tf.optimizers.Adamax(0.01),\n",
        "              loss = 'sparse_categorical_crossentropy',\n",
        "              metrics=['accuracy'])\n",
        "\n",
        "H=model1.fit(train_images, train_labels, epochs=50,validation_data=(valid_images, valid_labels))\n"
      ],
      "execution_count": null,
      "outputs": [
        {
          "output_type": "stream",
          "text": [
            "Epoch 1/50\n",
            "1875/1875 [==============================] - 3s 1ms/step - loss: 0.3264 - accuracy: 0.9019 - val_loss: 3.5437 - val_accuracy: 0.1126\n",
            "Epoch 2/50\n",
            "1875/1875 [==============================] - 3s 1ms/step - loss: 0.1183 - accuracy: 0.9645 - val_loss: 3.5393 - val_accuracy: 0.1126\n",
            "Epoch 3/50\n",
            "1875/1875 [==============================] - 3s 1ms/step - loss: 0.0600 - accuracy: 0.9814 - val_loss: 4.5691 - val_accuracy: 0.1126\n",
            "Epoch 4/50\n",
            "1875/1875 [==============================] - 3s 1ms/step - loss: 0.0308 - accuracy: 0.9905 - val_loss: 5.1102 - val_accuracy: 0.1126\n",
            "Epoch 5/50\n",
            "1875/1875 [==============================] - 3s 1ms/step - loss: 0.0173 - accuracy: 0.9951 - val_loss: 5.5181 - val_accuracy: 0.1126\n",
            "Epoch 6/50\n",
            "1875/1875 [==============================] - 3s 1ms/step - loss: 0.0100 - accuracy: 0.9974 - val_loss: 6.1716 - val_accuracy: 0.1126\n",
            "Epoch 7/50\n",
            "1875/1875 [==============================] - 3s 1ms/step - loss: 0.0054 - accuracy: 0.9989 - val_loss: 6.0840 - val_accuracy: 0.1126\n",
            "Epoch 8/50\n",
            "1875/1875 [==============================] - 3s 1ms/step - loss: 0.0042 - accuracy: 0.9991 - val_loss: 6.2927 - val_accuracy: 0.1126\n",
            "Epoch 9/50\n",
            "1875/1875 [==============================] - 3s 1ms/step - loss: 0.0030 - accuracy: 0.9995 - val_loss: 7.0235 - val_accuracy: 0.1126\n",
            "Epoch 10/50\n",
            "1875/1875 [==============================] - 3s 1ms/step - loss: 0.0020 - accuracy: 0.9997 - val_loss: 6.8654 - val_accuracy: 0.1126\n",
            "Epoch 11/50\n",
            "1875/1875 [==============================] - 3s 1ms/step - loss: 0.0019 - accuracy: 0.9996 - val_loss: 6.6290 - val_accuracy: 0.1126\n",
            "Epoch 12/50\n",
            "1875/1875 [==============================] - 3s 1ms/step - loss: 0.0012 - accuracy: 0.9998 - val_loss: 7.3066 - val_accuracy: 0.1126\n",
            "Epoch 13/50\n",
            "1875/1875 [==============================] - 3s 1ms/step - loss: 9.1304e-04 - accuracy: 0.9999 - val_loss: 7.2387 - val_accuracy: 0.1126\n",
            "Epoch 14/50\n",
            "1875/1875 [==============================] - 3s 1ms/step - loss: 5.0705e-04 - accuracy: 0.9999 - val_loss: 7.5948 - val_accuracy: 0.1126\n",
            "Epoch 15/50\n",
            "1875/1875 [==============================] - 3s 1ms/step - loss: 6.6153e-04 - accuracy: 0.9999 - val_loss: 7.4593 - val_accuracy: 0.1126\n",
            "Epoch 16/50\n",
            "1875/1875 [==============================] - 3s 1ms/step - loss: 7.1956e-04 - accuracy: 0.9999 - val_loss: 7.9872 - val_accuracy: 0.1126\n",
            "Epoch 17/50\n",
            "1875/1875 [==============================] - 3s 1ms/step - loss: 4.0807e-04 - accuracy: 0.9999 - val_loss: 8.6164 - val_accuracy: 0.1126\n",
            "Epoch 18/50\n",
            "1875/1875 [==============================] - 3s 1ms/step - loss: 3.1067e-04 - accuracy: 0.9999 - val_loss: 8.3917 - val_accuracy: 0.1126\n",
            "Epoch 19/50\n",
            "1875/1875 [==============================] - 3s 1ms/step - loss: 2.5499e-04 - accuracy: 1.0000 - val_loss: 8.4524 - val_accuracy: 0.1126\n",
            "Epoch 20/50\n",
            "1875/1875 [==============================] - 3s 1ms/step - loss: 1.7991e-04 - accuracy: 1.0000 - val_loss: 9.1593 - val_accuracy: 0.1126\n",
            "Epoch 21/50\n",
            "1875/1875 [==============================] - 3s 1ms/step - loss: 3.0199e-04 - accuracy: 0.9999 - val_loss: 9.2319 - val_accuracy: 0.1126\n",
            "Epoch 22/50\n",
            "1875/1875 [==============================] - 3s 1ms/step - loss: 2.5920e-04 - accuracy: 0.9999 - val_loss: 9.2728 - val_accuracy: 0.1126\n",
            "Epoch 23/50\n",
            "1875/1875 [==============================] - 3s 1ms/step - loss: 1.1001e-04 - accuracy: 1.0000 - val_loss: 9.7043 - val_accuracy: 0.1126\n",
            "Epoch 24/50\n",
            "1875/1875 [==============================] - 3s 1ms/step - loss: 4.0166e-04 - accuracy: 0.9999 - val_loss: 10.2149 - val_accuracy: 0.1126\n",
            "Epoch 25/50\n",
            "1875/1875 [==============================] - 3s 1ms/step - loss: 1.3768e-04 - accuracy: 1.0000 - val_loss: 10.5315 - val_accuracy: 0.1126\n",
            "Epoch 26/50\n",
            "1875/1875 [==============================] - 3s 1ms/step - loss: 1.2286e-04 - accuracy: 1.0000 - val_loss: 12.0591 - val_accuracy: 0.1126\n",
            "Epoch 27/50\n",
            "1875/1875 [==============================] - 3s 1ms/step - loss: 9.1949e-05 - accuracy: 1.0000 - val_loss: 11.5665 - val_accuracy: 0.1126\n",
            "Epoch 28/50\n",
            "1875/1875 [==============================] - 3s 1ms/step - loss: 2.1429e-04 - accuracy: 0.9999 - val_loss: 12.2014 - val_accuracy: 0.1126\n",
            "Epoch 29/50\n",
            "1875/1875 [==============================] - 3s 1ms/step - loss: 1.1917e-04 - accuracy: 1.0000 - val_loss: 12.6329 - val_accuracy: 0.1126\n",
            "Epoch 30/50\n",
            "1875/1875 [==============================] - 3s 1ms/step - loss: 7.3894e-05 - accuracy: 1.0000 - val_loss: 12.3436 - val_accuracy: 0.1126\n",
            "Epoch 31/50\n",
            "1875/1875 [==============================] - 3s 1ms/step - loss: 9.7806e-05 - accuracy: 1.0000 - val_loss: 12.6524 - val_accuracy: 0.1126\n",
            "Epoch 32/50\n",
            "1875/1875 [==============================] - 3s 1ms/step - loss: 3.1104e-05 - accuracy: 1.0000 - val_loss: 12.9159 - val_accuracy: 0.1126\n",
            "Epoch 33/50\n",
            "1875/1875 [==============================] - 3s 2ms/step - loss: 9.0743e-05 - accuracy: 1.0000 - val_loss: 12.6606 - val_accuracy: 0.1126\n",
            "Epoch 34/50\n",
            "1875/1875 [==============================] - 3s 2ms/step - loss: 2.4246e-04 - accuracy: 0.9999 - val_loss: 12.9221 - val_accuracy: 0.1126\n",
            "Epoch 35/50\n",
            "1875/1875 [==============================] - 3s 2ms/step - loss: 4.7141e-05 - accuracy: 1.0000 - val_loss: 13.0406 - val_accuracy: 0.1126\n",
            "Epoch 36/50\n",
            "1875/1875 [==============================] - 3s 2ms/step - loss: 8.3672e-05 - accuracy: 1.0000 - val_loss: 13.8135 - val_accuracy: 0.1126\n",
            "Epoch 37/50\n",
            "1875/1875 [==============================] - 3s 1ms/step - loss: 7.0794e-05 - accuracy: 1.0000 - val_loss: 13.6207 - val_accuracy: 0.1126\n",
            "Epoch 38/50\n",
            "1875/1875 [==============================] - 3s 1ms/step - loss: 8.9292e-05 - accuracy: 1.0000 - val_loss: 14.0349 - val_accuracy: 0.1126\n",
            "Epoch 39/50\n",
            "1875/1875 [==============================] - 3s 1ms/step - loss: 4.1104e-05 - accuracy: 1.0000 - val_loss: 13.6253 - val_accuracy: 0.1126\n",
            "Epoch 40/50\n",
            "1875/1875 [==============================] - 3s 1ms/step - loss: 2.6107e-05 - accuracy: 1.0000 - val_loss: 13.4163 - val_accuracy: 0.1126\n",
            "Epoch 41/50\n",
            "1875/1875 [==============================] - 3s 1ms/step - loss: 2.9036e-04 - accuracy: 0.9999 - val_loss: 14.0792 - val_accuracy: 0.1126\n",
            "Epoch 42/50\n",
            "1875/1875 [==============================] - 3s 1ms/step - loss: 1.9098e-05 - accuracy: 1.0000 - val_loss: 14.0941 - val_accuracy: 0.1126\n",
            "Epoch 43/50\n",
            "1875/1875 [==============================] - 3s 1ms/step - loss: 6.0772e-06 - accuracy: 1.0000 - val_loss: 14.4848 - val_accuracy: 0.1126\n",
            "Epoch 44/50\n",
            "1875/1875 [==============================] - 3s 1ms/step - loss: 3.0739e-04 - accuracy: 0.9999 - val_loss: 14.7225 - val_accuracy: 0.1126\n",
            "Epoch 45/50\n",
            "1875/1875 [==============================] - 3s 1ms/step - loss: 2.6319e-04 - accuracy: 0.9999 - val_loss: 14.3795 - val_accuracy: 0.1126\n",
            "Epoch 46/50\n",
            "1875/1875 [==============================] - 3s 1ms/step - loss: 3.4922e-04 - accuracy: 0.9999 - val_loss: 14.3406 - val_accuracy: 0.1126\n",
            "Epoch 47/50\n",
            "1875/1875 [==============================] - 3s 1ms/step - loss: 2.6935e-05 - accuracy: 1.0000 - val_loss: 14.1390 - val_accuracy: 0.1126\n",
            "Epoch 48/50\n",
            "1875/1875 [==============================] - 3s 1ms/step - loss: 3.8180e-04 - accuracy: 0.9999 - val_loss: 15.1939 - val_accuracy: 0.1126\n",
            "Epoch 49/50\n",
            "1875/1875 [==============================] - 3s 1ms/step - loss: 2.5667e-04 - accuracy: 0.9999 - val_loss: 15.3084 - val_accuracy: 0.1126\n",
            "Epoch 50/50\n",
            "1875/1875 [==============================] - 3s 1ms/step - loss: 3.8192e-04 - accuracy: 0.9999 - val_loss: 15.5112 - val_accuracy: 0.1126\n"
          ],
          "name": "stdout"
        }
      ]
    },
    {
      "cell_type": "code",
      "metadata": {
        "id": "T16NRh-xlhHS",
        "colab_type": "code",
        "colab": {}
      },
      "source": [
        "#Best Accuracy Achieved\n",
        "model = tf.keras.models.Sequential([tf.keras.layers.Flatten(data_format=None), \n",
        "                                    tf.keras.layers.Dense(128, activation=tf.nn.relu), \n",
        "                                    tf.keras.layers.Dense(10, activation=tf.nn.softmax)])"
      ],
      "execution_count": null,
      "outputs": []
    },
    {
      "cell_type": "code",
      "metadata": {
        "id": "IabImUjhlkt3",
        "colab_type": "code",
        "colab": {
          "base_uri": "https://localhost:8080/",
          "height": 1000
        },
        "outputId": "bc632c87-be5a-487d-eeb1-070962677730"
      },
      "source": [
        "model.compile(optimizer = tf.optimizers.Adam(),\n",
        "              loss = 'sparse_categorical_crossentropy',\n",
        "              metrics=['accuracy'])\n",
        "\n",
        "H=model.fit(train_images, train_labels, epochs=50,validation_data=(valid_images, valid_labels))"
      ],
      "execution_count": null,
      "outputs": [
        {
          "output_type": "stream",
          "text": [
            "Epoch 1/50\n",
            "1875/1875 [==============================] - 3s 2ms/step - loss: 0.4710 - accuracy: 0.8651 - val_loss: 3.1960 - val_accuracy: 0.0868\n",
            "Epoch 2/50\n",
            "1875/1875 [==============================] - 3s 2ms/step - loss: 0.1633 - accuracy: 0.9531 - val_loss: 3.3564 - val_accuracy: 0.1100\n",
            "Epoch 3/50\n",
            "1875/1875 [==============================] - 3s 2ms/step - loss: 0.0961 - accuracy: 0.9721 - val_loss: 4.0904 - val_accuracy: 0.1126\n",
            "Epoch 4/50\n",
            "1875/1875 [==============================] - 3s 2ms/step - loss: 0.0597 - accuracy: 0.9827 - val_loss: 4.5134 - val_accuracy: 0.1126\n",
            "Epoch 5/50\n",
            "1875/1875 [==============================] - 3s 2ms/step - loss: 0.0358 - accuracy: 0.9899 - val_loss: 5.0896 - val_accuracy: 0.1126\n",
            "Epoch 6/50\n",
            "1875/1875 [==============================] - 3s 2ms/step - loss: 0.0246 - accuracy: 0.9931 - val_loss: 5.2392 - val_accuracy: 0.1126\n",
            "Epoch 7/50\n",
            "1875/1875 [==============================] - 3s 2ms/step - loss: 0.0195 - accuracy: 0.9942 - val_loss: 5.9585 - val_accuracy: 0.1126\n",
            "Epoch 8/50\n",
            "1875/1875 [==============================] - 3s 2ms/step - loss: 0.0152 - accuracy: 0.9956 - val_loss: 6.4212 - val_accuracy: 0.1126\n",
            "Epoch 9/50\n",
            "1875/1875 [==============================] - 3s 2ms/step - loss: 0.0118 - accuracy: 0.9970 - val_loss: 6.1523 - val_accuracy: 0.1126\n",
            "Epoch 10/50\n",
            "1875/1875 [==============================] - 3s 2ms/step - loss: 0.0124 - accuracy: 0.9963 - val_loss: 7.3656 - val_accuracy: 0.1126\n",
            "Epoch 11/50\n",
            "1875/1875 [==============================] - 3s 2ms/step - loss: 0.0123 - accuracy: 0.9962 - val_loss: 8.0533 - val_accuracy: 0.1126\n",
            "Epoch 12/50\n",
            "1875/1875 [==============================] - 3s 2ms/step - loss: 0.0094 - accuracy: 0.9973 - val_loss: 8.4706 - val_accuracy: 0.1126\n",
            "Epoch 13/50\n",
            "1875/1875 [==============================] - 3s 2ms/step - loss: 0.0097 - accuracy: 0.9968 - val_loss: 9.7411 - val_accuracy: 0.1126\n",
            "Epoch 14/50\n",
            "1875/1875 [==============================] - 3s 2ms/step - loss: 0.0101 - accuracy: 0.9966 - val_loss: 9.4370 - val_accuracy: 0.1126\n",
            "Epoch 15/50\n",
            "1875/1875 [==============================] - 3s 2ms/step - loss: 0.0093 - accuracy: 0.9966 - val_loss: 10.2577 - val_accuracy: 0.1126\n",
            "Epoch 16/50\n",
            "1875/1875 [==============================] - 3s 2ms/step - loss: 0.0087 - accuracy: 0.9972 - val_loss: 10.2167 - val_accuracy: 0.1126\n",
            "Epoch 17/50\n",
            "1875/1875 [==============================] - 3s 2ms/step - loss: 0.0060 - accuracy: 0.9981 - val_loss: 10.5281 - val_accuracy: 0.1126\n",
            "Epoch 18/50\n",
            "1875/1875 [==============================] - 3s 2ms/step - loss: 0.0089 - accuracy: 0.9969 - val_loss: 10.4580 - val_accuracy: 0.1126\n",
            "Epoch 19/50\n",
            "1875/1875 [==============================] - 3s 2ms/step - loss: 0.0076 - accuracy: 0.9975 - val_loss: 11.1115 - val_accuracy: 0.1126\n",
            "Epoch 20/50\n",
            "1875/1875 [==============================] - 3s 2ms/step - loss: 0.0077 - accuracy: 0.9976 - val_loss: 11.4776 - val_accuracy: 0.1126\n",
            "Epoch 21/50\n",
            "1875/1875 [==============================] - 3s 2ms/step - loss: 0.0079 - accuracy: 0.9976 - val_loss: 10.6950 - val_accuracy: 0.1126\n",
            "Epoch 22/50\n",
            "1875/1875 [==============================] - 3s 2ms/step - loss: 0.0067 - accuracy: 0.9979 - val_loss: 13.1961 - val_accuracy: 0.1126\n",
            "Epoch 23/50\n",
            "1875/1875 [==============================] - 3s 2ms/step - loss: 0.0076 - accuracy: 0.9976 - val_loss: 12.0758 - val_accuracy: 0.1126\n",
            "Epoch 24/50\n",
            "1875/1875 [==============================] - 3s 2ms/step - loss: 0.0067 - accuracy: 0.9978 - val_loss: 11.9339 - val_accuracy: 0.1126\n",
            "Epoch 25/50\n",
            "1875/1875 [==============================] - 3s 2ms/step - loss: 0.0061 - accuracy: 0.9980 - val_loss: 13.4208 - val_accuracy: 0.1126\n",
            "Epoch 26/50\n",
            "1875/1875 [==============================] - 3s 2ms/step - loss: 0.0061 - accuracy: 0.9979 - val_loss: 13.6346 - val_accuracy: 0.1126\n",
            "Epoch 27/50\n",
            "1875/1875 [==============================] - 3s 2ms/step - loss: 0.0059 - accuracy: 0.9983 - val_loss: 13.5697 - val_accuracy: 0.1126\n",
            "Epoch 28/50\n",
            "1875/1875 [==============================] - 3s 2ms/step - loss: 0.0071 - accuracy: 0.9976 - val_loss: 15.2103 - val_accuracy: 0.1126\n",
            "Epoch 29/50\n",
            "1875/1875 [==============================] - 3s 2ms/step - loss: 0.0060 - accuracy: 0.9978 - val_loss: 15.0767 - val_accuracy: 0.1126\n",
            "Epoch 30/50\n",
            "1875/1875 [==============================] - 3s 2ms/step - loss: 0.0061 - accuracy: 0.9981 - val_loss: 15.4697 - val_accuracy: 0.1126\n",
            "Epoch 31/50\n",
            "1875/1875 [==============================] - 3s 2ms/step - loss: 0.0060 - accuracy: 0.9980 - val_loss: 15.5131 - val_accuracy: 0.1126\n",
            "Epoch 32/50\n",
            "1875/1875 [==============================] - 3s 2ms/step - loss: 0.0037 - accuracy: 0.9987 - val_loss: 16.1958 - val_accuracy: 0.1126\n",
            "Epoch 33/50\n",
            "1875/1875 [==============================] - 3s 2ms/step - loss: 0.0059 - accuracy: 0.9980 - val_loss: 17.2116 - val_accuracy: 0.1126\n",
            "Epoch 34/50\n",
            "1875/1875 [==============================] - 3s 2ms/step - loss: 0.0042 - accuracy: 0.9987 - val_loss: 16.4225 - val_accuracy: 0.1126\n",
            "Epoch 35/50\n",
            "1875/1875 [==============================] - 3s 2ms/step - loss: 0.0078 - accuracy: 0.9976 - val_loss: 16.1519 - val_accuracy: 0.1126\n",
            "Epoch 36/50\n",
            "1875/1875 [==============================] - 3s 2ms/step - loss: 0.0042 - accuracy: 0.9985 - val_loss: 16.7338 - val_accuracy: 0.1126\n",
            "Epoch 37/50\n",
            "1875/1875 [==============================] - 3s 2ms/step - loss: 0.0047 - accuracy: 0.9986 - val_loss: 15.2227 - val_accuracy: 0.1126\n",
            "Epoch 38/50\n",
            "1875/1875 [==============================] - 3s 2ms/step - loss: 0.0054 - accuracy: 0.9982 - val_loss: 14.9776 - val_accuracy: 0.1126\n",
            "Epoch 39/50\n",
            "1875/1875 [==============================] - 3s 2ms/step - loss: 0.0054 - accuracy: 0.9982 - val_loss: 15.8266 - val_accuracy: 0.1126\n",
            "Epoch 40/50\n",
            "1875/1875 [==============================] - 3s 2ms/step - loss: 0.0037 - accuracy: 0.9987 - val_loss: 17.0789 - val_accuracy: 0.1126\n",
            "Epoch 41/50\n",
            "1875/1875 [==============================] - 3s 2ms/step - loss: 0.0057 - accuracy: 0.9980 - val_loss: 17.6818 - val_accuracy: 0.1126\n",
            "Epoch 42/50\n",
            "1875/1875 [==============================] - 3s 2ms/step - loss: 0.0029 - accuracy: 0.9990 - val_loss: 16.5418 - val_accuracy: 0.1126\n",
            "Epoch 43/50\n",
            "1875/1875 [==============================] - 3s 2ms/step - loss: 0.0052 - accuracy: 0.9984 - val_loss: 17.9272 - val_accuracy: 0.1126\n",
            "Epoch 44/50\n",
            "1875/1875 [==============================] - 3s 2ms/step - loss: 0.0051 - accuracy: 0.9983 - val_loss: 18.6491 - val_accuracy: 0.1126\n",
            "Epoch 45/50\n",
            "1875/1875 [==============================] - 3s 2ms/step - loss: 0.0044 - accuracy: 0.9985 - val_loss: 17.7324 - val_accuracy: 0.1126\n",
            "Epoch 46/50\n",
            "1875/1875 [==============================] - 3s 2ms/step - loss: 0.0048 - accuracy: 0.9987 - val_loss: 18.0478 - val_accuracy: 0.1126\n",
            "Epoch 47/50\n",
            "1875/1875 [==============================] - 3s 2ms/step - loss: 0.0040 - accuracy: 0.9988 - val_loss: 17.6463 - val_accuracy: 0.1126\n",
            "Epoch 48/50\n",
            "1875/1875 [==============================] - 3s 2ms/step - loss: 0.0034 - accuracy: 0.9989 - val_loss: 20.4339 - val_accuracy: 0.1126\n",
            "Epoch 49/50\n",
            "1875/1875 [==============================] - 3s 2ms/step - loss: 0.0059 - accuracy: 0.9982 - val_loss: 19.5008 - val_accuracy: 0.1126\n",
            "Epoch 50/50\n",
            "1875/1875 [==============================] - 3s 2ms/step - loss: 0.0027 - accuracy: 0.9991 - val_loss: 22.1998 - val_accuracy: 0.1126\n"
          ],
          "name": "stdout"
        }
      ]
    },
    {
      "cell_type": "code",
      "metadata": {
        "id": "jxsnKeDll2OJ",
        "colab_type": "code",
        "colab": {
          "base_uri": "https://localhost:8080/",
          "height": 260
        },
        "outputId": "8dd0f673-b83b-4c91-cade-54add573d36d"
      },
      "source": [
        "model.summary()"
      ],
      "execution_count": null,
      "outputs": [
        {
          "output_type": "stream",
          "text": [
            "Model: \"sequential\"\n",
            "_________________________________________________________________\n",
            "Layer (type)                 Output Shape              Param #   \n",
            "=================================================================\n",
            "flatten (Flatten)            (None, 784)               0         \n",
            "_________________________________________________________________\n",
            "dense (Dense)                (None, 128)               100480    \n",
            "_________________________________________________________________\n",
            "dense_1 (Dense)              (None, 10)                1290      \n",
            "=================================================================\n",
            "Total params: 101,770\n",
            "Trainable params: 101,770\n",
            "Non-trainable params: 0\n",
            "_________________________________________________________________\n"
          ],
          "name": "stdout"
        }
      ]
    },
    {
      "cell_type": "code",
      "metadata": {
        "id": "8c1OtkEyl5VW",
        "colab_type": "code",
        "colab": {
          "base_uri": "https://localhost:8080/",
          "height": 602
        },
        "outputId": "9e5c751d-053d-4ec0-d6cd-571b99ff8000"
      },
      "source": [
        "#Cost/Loss\n",
        "import pandas as pd\n",
        "import matplotlib.pyplot as plt\n",
        "pd.DataFrame(H.history).plot(figsize=(8, 5))\n",
        "plt.grid(True)\n",
        "plt.gca().set_ylim(0, 1)\n",
        "plt.show()\n",
        "\n",
        "plt.plot(H.history['loss'])\n",
        "plt.ylabel('cost')\n",
        "plt.xlabel('Epochs')\n",
        "plt.title(\"Cost/Loss Curve\")\n",
        "plt.show()"
      ],
      "execution_count": null,
      "outputs": [
        {
          "output_type": "display_data",
          "data": {
            "image/png": "[encoded data removed]",
            "text/plain": [
              "<Figure size 576x360 with 1 Axes>"
            ]
          },
          "metadata": {
            "tags": [],
            "needs_background": "light"
          }
        },
        {
          "output_type": "display_data",
          "data": {
            "image/png": "[encoded data removed]",
            "text/plain": [
              "<Figure size 432x288 with 1 Axes>"
            ]
          },
          "metadata": {
            "tags": [],
            "needs_background": "light"
          }
        }
      ]
    },
    {
      "cell_type": "code",
      "metadata": {
        "id": "0O9GnHRbl8tK",
        "colab_type": "code",
        "colab": {
          "base_uri": "https://localhost:8080/",
          "height": 52
        },
        "outputId": "c7a9a4e8-1b27-45eb-8600-a8e76e54b2cb"
      },
      "source": [
        "model.evaluate(test_images, test_labels)"
      ],
      "execution_count": null,
      "outputs": [
        {
          "output_type": "stream",
          "text": [
            "313/313 [==============================] - 0s 1ms/step - loss: 0.4204 - accuracy: 0.9580\n"
          ],
          "name": "stdout"
        },
        {
          "output_type": "execute_result",
          "data": {
            "text/plain": [
              "[0.42036375403404236, 0.9580000042915344]"
            ]
          },
          "metadata": {
            "tags": []
          },
          "execution_count": 10
        }
      ]
    },
    {
      "cell_type": "code",
      "metadata": {
        "id": "0QrPjRDRmEwu",
        "colab_type": "code",
        "colab": {
          "base_uri": "https://localhost:8080/",
          "height": 52
        },
        "outputId": "12193a30-9915-4991-ad8c-d66ad53228cd"
      },
      "source": [
        "model1.evaluate(test_images, test_labels)"
      ],
      "execution_count": null,
      "outputs": [
        {
          "output_type": "stream",
          "text": [
            "313/313 [==============================] - 0s 1ms/step - loss: 0.4005 - accuracy: 0.9591\n"
          ],
          "name": "stdout"
        },
        {
          "output_type": "execute_result",
          "data": {
            "text/plain": [
              "[0.4004792869091034, 0.9591000080108643]"
            ]
          },
          "metadata": {
            "tags": []
          },
          "execution_count": 15
        }
      ]
    }
  ]
}